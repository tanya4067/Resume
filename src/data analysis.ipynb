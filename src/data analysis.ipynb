{
 "cells": [
  {
   "cell_type": "code",
   "execution_count": 1,
   "id": "5198a873",
   "metadata": {},
   "outputs": [],
   "source": [
    "import pandas as pd\n",
    "import numpy as np \n",
    "import requests\n",
    "import json"
   ]
  },
  {
   "cell_type": "code",
   "execution_count": 4,
   "id": "69ab773c",
   "metadata": {},
   "outputs": [],
   "source": [
    "url = 'http://127.0.0.1:8000/supplier'\n",
    "myobj = {\n",
    "  \"id\": 1,\n",
    "  \"name\": \"string\",\n",
    "  \"age\": 0,\n",
    "  \"gender\": \"string\",\n",
    "  \"net_worth\": 0,\n",
    "  \"duration\": 0,\n",
    "  \"yearly_salary\": 0\n",
    "}\n",
    "\n",
    "x = requests.post(url, json = myobj)\n"
   ]
  },
  {
   "cell_type": "code",
   "execution_count": 5,
   "id": "ae1fd126",
   "metadata": {},
   "outputs": [],
   "source": [
    "fData=pd.read_csv('Finance_Data.csv')\n",
    "oData=pd.read_csv('Original_Data.csv')"
   ]
  },
  {
   "cell_type": "code",
   "execution_count": 6,
   "id": "c6e993ad",
   "metadata": {},
   "outputs": [
    {
     "data": {
      "text/html": [
       "<div>\n",
       "<style scoped>\n",
       "    .dataframe tbody tr th:only-of-type {\n",
       "        vertical-align: middle;\n",
       "    }\n",
       "\n",
       "    .dataframe tbody tr th {\n",
       "        vertical-align: top;\n",
       "    }\n",
       "\n",
       "    .dataframe thead th {\n",
       "        text-align: right;\n",
       "    }\n",
       "</style>\n",
       "<table border=\"1\" class=\"dataframe\">\n",
       "  <thead>\n",
       "    <tr style=\"text-align: right;\">\n",
       "      <th></th>\n",
       "      <th>gender</th>\n",
       "      <th>age</th>\n",
       "      <th>Investment_Avenues</th>\n",
       "      <th>Mutual_Funds</th>\n",
       "      <th>Equity_Market</th>\n",
       "      <th>Debentures</th>\n",
       "      <th>Government_Bonds</th>\n",
       "      <th>Fixed_Deposits</th>\n",
       "      <th>PPF</th>\n",
       "      <th>Gold</th>\n",
       "      <th>...</th>\n",
       "      <th>Duration</th>\n",
       "      <th>Invest_Monitor</th>\n",
       "      <th>Expect</th>\n",
       "      <th>Avenue</th>\n",
       "      <th>What are your savings objectives?</th>\n",
       "      <th>Reason_Equity</th>\n",
       "      <th>Reason_Mutual</th>\n",
       "      <th>Reason_Bonds</th>\n",
       "      <th>Reason_FD</th>\n",
       "      <th>Source</th>\n",
       "    </tr>\n",
       "  </thead>\n",
       "  <tbody>\n",
       "    <tr>\n",
       "      <th>0</th>\n",
       "      <td>Female</td>\n",
       "      <td>34</td>\n",
       "      <td>Yes</td>\n",
       "      <td>1</td>\n",
       "      <td>2</td>\n",
       "      <td>5</td>\n",
       "      <td>3</td>\n",
       "      <td>7</td>\n",
       "      <td>6</td>\n",
       "      <td>4</td>\n",
       "      <td>...</td>\n",
       "      <td>1-3 years</td>\n",
       "      <td>Monthly</td>\n",
       "      <td>20%-30%</td>\n",
       "      <td>Mutual Fund</td>\n",
       "      <td>Retirement Plan</td>\n",
       "      <td>Capital Appreciation</td>\n",
       "      <td>Better Returns</td>\n",
       "      <td>Safe Investment</td>\n",
       "      <td>Fixed Returns</td>\n",
       "      <td>Newspapers and Magazines</td>\n",
       "    </tr>\n",
       "    <tr>\n",
       "      <th>1</th>\n",
       "      <td>Female</td>\n",
       "      <td>23</td>\n",
       "      <td>Yes</td>\n",
       "      <td>4</td>\n",
       "      <td>3</td>\n",
       "      <td>2</td>\n",
       "      <td>1</td>\n",
       "      <td>5</td>\n",
       "      <td>6</td>\n",
       "      <td>7</td>\n",
       "      <td>...</td>\n",
       "      <td>More than 5 years</td>\n",
       "      <td>Weekly</td>\n",
       "      <td>20%-30%</td>\n",
       "      <td>Mutual Fund</td>\n",
       "      <td>Health Care</td>\n",
       "      <td>Dividend</td>\n",
       "      <td>Better Returns</td>\n",
       "      <td>Safe Investment</td>\n",
       "      <td>High Interest Rates</td>\n",
       "      <td>Financial Consultants</td>\n",
       "    </tr>\n",
       "    <tr>\n",
       "      <th>2</th>\n",
       "      <td>Male</td>\n",
       "      <td>30</td>\n",
       "      <td>Yes</td>\n",
       "      <td>3</td>\n",
       "      <td>6</td>\n",
       "      <td>4</td>\n",
       "      <td>2</td>\n",
       "      <td>5</td>\n",
       "      <td>1</td>\n",
       "      <td>7</td>\n",
       "      <td>...</td>\n",
       "      <td>3-5 years</td>\n",
       "      <td>Daily</td>\n",
       "      <td>20%-30%</td>\n",
       "      <td>Equity</td>\n",
       "      <td>Retirement Plan</td>\n",
       "      <td>Capital Appreciation</td>\n",
       "      <td>Tax Benefits</td>\n",
       "      <td>Assured Returns</td>\n",
       "      <td>Fixed Returns</td>\n",
       "      <td>Television</td>\n",
       "    </tr>\n",
       "    <tr>\n",
       "      <th>3</th>\n",
       "      <td>Male</td>\n",
       "      <td>22</td>\n",
       "      <td>Yes</td>\n",
       "      <td>2</td>\n",
       "      <td>1</td>\n",
       "      <td>3</td>\n",
       "      <td>7</td>\n",
       "      <td>6</td>\n",
       "      <td>4</td>\n",
       "      <td>5</td>\n",
       "      <td>...</td>\n",
       "      <td>Less than 1 year</td>\n",
       "      <td>Daily</td>\n",
       "      <td>10%-20%</td>\n",
       "      <td>Equity</td>\n",
       "      <td>Retirement Plan</td>\n",
       "      <td>Dividend</td>\n",
       "      <td>Fund Diversification</td>\n",
       "      <td>Tax Incentives</td>\n",
       "      <td>High Interest Rates</td>\n",
       "      <td>Internet</td>\n",
       "    </tr>\n",
       "    <tr>\n",
       "      <th>4</th>\n",
       "      <td>Female</td>\n",
       "      <td>24</td>\n",
       "      <td>No</td>\n",
       "      <td>2</td>\n",
       "      <td>1</td>\n",
       "      <td>3</td>\n",
       "      <td>6</td>\n",
       "      <td>4</td>\n",
       "      <td>5</td>\n",
       "      <td>7</td>\n",
       "      <td>...</td>\n",
       "      <td>Less than 1 year</td>\n",
       "      <td>Daily</td>\n",
       "      <td>20%-30%</td>\n",
       "      <td>Equity</td>\n",
       "      <td>Retirement Plan</td>\n",
       "      <td>Capital Appreciation</td>\n",
       "      <td>Better Returns</td>\n",
       "      <td>Safe Investment</td>\n",
       "      <td>Risk Free</td>\n",
       "      <td>Internet</td>\n",
       "    </tr>\n",
       "  </tbody>\n",
       "</table>\n",
       "<p>5 rows × 24 columns</p>\n",
       "</div>"
      ],
      "text/plain": [
       "   gender  age Investment_Avenues  Mutual_Funds  Equity_Market  Debentures  \\\n",
       "0  Female   34                Yes             1              2           5   \n",
       "1  Female   23                Yes             4              3           2   \n",
       "2    Male   30                Yes             3              6           4   \n",
       "3    Male   22                Yes             2              1           3   \n",
       "4  Female   24                 No             2              1           3   \n",
       "\n",
       "   Government_Bonds  Fixed_Deposits  PPF  Gold  ...           Duration  \\\n",
       "0                 3               7    6     4  ...          1-3 years   \n",
       "1                 1               5    6     7  ...  More than 5 years   \n",
       "2                 2               5    1     7  ...          3-5 years   \n",
       "3                 7               6    4     5  ...   Less than 1 year   \n",
       "4                 6               4    5     7  ...   Less than 1 year   \n",
       "\n",
       "  Invest_Monitor   Expect       Avenue What are your savings objectives?  \\\n",
       "0        Monthly  20%-30%  Mutual Fund                   Retirement Plan   \n",
       "1         Weekly  20%-30%  Mutual Fund                       Health Care   \n",
       "2          Daily  20%-30%       Equity                   Retirement Plan   \n",
       "3          Daily  10%-20%       Equity                   Retirement Plan   \n",
       "4          Daily  20%-30%       Equity                   Retirement Plan   \n",
       "\n",
       "          Reason_Equity         Reason_Mutual     Reason_Bonds  \\\n",
       "0  Capital Appreciation        Better Returns  Safe Investment   \n",
       "1              Dividend        Better Returns  Safe Investment   \n",
       "2  Capital Appreciation          Tax Benefits  Assured Returns   \n",
       "3              Dividend  Fund Diversification   Tax Incentives   \n",
       "4  Capital Appreciation        Better Returns  Safe Investment   \n",
       "\n",
       "             Reason_FD                    Source  \n",
       "0        Fixed Returns  Newspapers and Magazines  \n",
       "1  High Interest Rates     Financial Consultants  \n",
       "2        Fixed Returns                Television  \n",
       "3  High Interest Rates                  Internet  \n",
       "4            Risk Free                  Internet  \n",
       "\n",
       "[5 rows x 24 columns]"
      ]
     },
     "execution_count": 6,
     "metadata": {},
     "output_type": "execute_result"
    }
   ],
   "source": [
    "fData.head()"
   ]
  },
  {
   "cell_type": "code",
   "execution_count": 7,
   "id": "218d6cab",
   "metadata": {},
   "outputs": [
    {
     "data": {
      "text/html": [
       "<div>\n",
       "<style scoped>\n",
       "    .dataframe tbody tr th:only-of-type {\n",
       "        vertical-align: middle;\n",
       "    }\n",
       "\n",
       "    .dataframe tbody tr th {\n",
       "        vertical-align: top;\n",
       "    }\n",
       "\n",
       "    .dataframe thead th {\n",
       "        text-align: right;\n",
       "    }\n",
       "</style>\n",
       "<table border=\"1\" class=\"dataframe\">\n",
       "  <thead>\n",
       "    <tr style=\"text-align: right;\">\n",
       "      <th></th>\n",
       "      <th>GENDER</th>\n",
       "      <th>AGE</th>\n",
       "      <th>Do you invest in Investment Avenues?</th>\n",
       "      <th>What do you think are the best options for investing your money? (Rank in order of preference) [Mutual Funds]</th>\n",
       "      <th>What do you think are the best options for investing your money? (Rank in order of preference) [Equity Market]</th>\n",
       "      <th>What do you think are the best options for investing your money? (Rank in order of preference) [Debentures]</th>\n",
       "      <th>What do you think are the best options for investing your money? (Rank in order of preference) [Government Bonds]</th>\n",
       "      <th>What do you think are the best options for investing your money? (Rank in order of preference) [Fixed Deposits]</th>\n",
       "      <th>What do you think are the best options for investing your money? (Rank in order of preference) [Public Provident Fund]</th>\n",
       "      <th>What do you think are the best options for investing your money? (Rank in order of preference) [Gold]</th>\n",
       "      <th>...</th>\n",
       "      <th>How long do you prefer to keep your money in any investment instrument?</th>\n",
       "      <th>How often do you monitor your investment?</th>\n",
       "      <th>How much return do you expect from any investment instrument?</th>\n",
       "      <th>Which investment avenue do you mostly invest in?</th>\n",
       "      <th>What are your savings objectives?</th>\n",
       "      <th>Reasons for investing in Equity Market</th>\n",
       "      <th>Reasons for investing in Mutual Funds</th>\n",
       "      <th>Reasons for investing in Government Bonds</th>\n",
       "      <th>Reasons for investing in Fixed Deposits</th>\n",
       "      <th>Your sources of information for investments is</th>\n",
       "    </tr>\n",
       "  </thead>\n",
       "  <tbody>\n",
       "    <tr>\n",
       "      <th>0</th>\n",
       "      <td>Female</td>\n",
       "      <td>34</td>\n",
       "      <td>Yes</td>\n",
       "      <td>1</td>\n",
       "      <td>2</td>\n",
       "      <td>5</td>\n",
       "      <td>3</td>\n",
       "      <td>7</td>\n",
       "      <td>6</td>\n",
       "      <td>4</td>\n",
       "      <td>...</td>\n",
       "      <td>1-3 years</td>\n",
       "      <td>Monthly</td>\n",
       "      <td>20%-30%</td>\n",
       "      <td>Mutual Fund</td>\n",
       "      <td>Retirement Plan</td>\n",
       "      <td>Capital Appreciation</td>\n",
       "      <td>Better Returns</td>\n",
       "      <td>Safe Investment</td>\n",
       "      <td>Fixed Returns</td>\n",
       "      <td>Newspapers and Magazines</td>\n",
       "    </tr>\n",
       "    <tr>\n",
       "      <th>1</th>\n",
       "      <td>Female</td>\n",
       "      <td>23</td>\n",
       "      <td>Yes</td>\n",
       "      <td>4</td>\n",
       "      <td>3</td>\n",
       "      <td>2</td>\n",
       "      <td>1</td>\n",
       "      <td>5</td>\n",
       "      <td>6</td>\n",
       "      <td>7</td>\n",
       "      <td>...</td>\n",
       "      <td>More than 5 years</td>\n",
       "      <td>Weekly</td>\n",
       "      <td>20%-30%</td>\n",
       "      <td>Mutual Fund</td>\n",
       "      <td>Health Care</td>\n",
       "      <td>Dividend</td>\n",
       "      <td>Better Returns</td>\n",
       "      <td>Safe Investment</td>\n",
       "      <td>High Interest Rates</td>\n",
       "      <td>Financial Consultants</td>\n",
       "    </tr>\n",
       "    <tr>\n",
       "      <th>2</th>\n",
       "      <td>Male</td>\n",
       "      <td>30</td>\n",
       "      <td>Yes</td>\n",
       "      <td>3</td>\n",
       "      <td>6</td>\n",
       "      <td>4</td>\n",
       "      <td>2</td>\n",
       "      <td>5</td>\n",
       "      <td>1</td>\n",
       "      <td>7</td>\n",
       "      <td>...</td>\n",
       "      <td>3-5 years</td>\n",
       "      <td>Daily</td>\n",
       "      <td>20%-30%</td>\n",
       "      <td>Equity</td>\n",
       "      <td>Retirement Plan</td>\n",
       "      <td>Capital Appreciation</td>\n",
       "      <td>Tax Benefits</td>\n",
       "      <td>Assured Returns</td>\n",
       "      <td>Fixed Returns</td>\n",
       "      <td>Television</td>\n",
       "    </tr>\n",
       "    <tr>\n",
       "      <th>3</th>\n",
       "      <td>Male</td>\n",
       "      <td>22</td>\n",
       "      <td>Yes</td>\n",
       "      <td>2</td>\n",
       "      <td>1</td>\n",
       "      <td>3</td>\n",
       "      <td>7</td>\n",
       "      <td>6</td>\n",
       "      <td>4</td>\n",
       "      <td>5</td>\n",
       "      <td>...</td>\n",
       "      <td>Less than 1 year</td>\n",
       "      <td>Daily</td>\n",
       "      <td>10%-20%</td>\n",
       "      <td>Equity</td>\n",
       "      <td>Retirement Plan</td>\n",
       "      <td>Dividend</td>\n",
       "      <td>Fund Diversification</td>\n",
       "      <td>Tax Incentives</td>\n",
       "      <td>High Interest Rates</td>\n",
       "      <td>Internet</td>\n",
       "    </tr>\n",
       "    <tr>\n",
       "      <th>4</th>\n",
       "      <td>Female</td>\n",
       "      <td>24</td>\n",
       "      <td>No</td>\n",
       "      <td>2</td>\n",
       "      <td>1</td>\n",
       "      <td>3</td>\n",
       "      <td>6</td>\n",
       "      <td>4</td>\n",
       "      <td>5</td>\n",
       "      <td>7</td>\n",
       "      <td>...</td>\n",
       "      <td>Less than 1 year</td>\n",
       "      <td>Daily</td>\n",
       "      <td>20%-30%</td>\n",
       "      <td>Equity</td>\n",
       "      <td>Retirement Plan</td>\n",
       "      <td>Capital Appreciation</td>\n",
       "      <td>Better Returns</td>\n",
       "      <td>Safe Investment</td>\n",
       "      <td>Risk Free</td>\n",
       "      <td>Internet</td>\n",
       "    </tr>\n",
       "  </tbody>\n",
       "</table>\n",
       "<p>5 rows × 24 columns</p>\n",
       "</div>"
      ],
      "text/plain": [
       "   GENDER  AGE Do you invest in Investment Avenues?  \\\n",
       "0  Female   34                                  Yes   \n",
       "1  Female   23                                  Yes   \n",
       "2    Male   30                                  Yes   \n",
       "3    Male   22                                  Yes   \n",
       "4  Female   24                                   No   \n",
       "\n",
       "   What do you think are the best options for investing your money? (Rank in order of preference) [Mutual Funds]  \\\n",
       "0                                                  1                                                               \n",
       "1                                                  4                                                               \n",
       "2                                                  3                                                               \n",
       "3                                                  2                                                               \n",
       "4                                                  2                                                               \n",
       "\n",
       "   What do you think are the best options for investing your money? (Rank in order of preference) [Equity Market]  \\\n",
       "0                                                  2                                                                \n",
       "1                                                  3                                                                \n",
       "2                                                  6                                                                \n",
       "3                                                  1                                                                \n",
       "4                                                  1                                                                \n",
       "\n",
       "   What do you think are the best options for investing your money? (Rank in order of preference) [Debentures]  \\\n",
       "0                                                  5                                                             \n",
       "1                                                  2                                                             \n",
       "2                                                  4                                                             \n",
       "3                                                  3                                                             \n",
       "4                                                  3                                                             \n",
       "\n",
       "   What do you think are the best options for investing your money? (Rank in order of preference) [Government Bonds]  \\\n",
       "0                                                  3                                                                   \n",
       "1                                                  1                                                                   \n",
       "2                                                  2                                                                   \n",
       "3                                                  7                                                                   \n",
       "4                                                  6                                                                   \n",
       "\n",
       "   What do you think are the best options for investing your money? (Rank in order of preference) [Fixed Deposits]  \\\n",
       "0                                                  7                                                                 \n",
       "1                                                  5                                                                 \n",
       "2                                                  5                                                                 \n",
       "3                                                  6                                                                 \n",
       "4                                                  4                                                                 \n",
       "\n",
       "   What do you think are the best options for investing your money? (Rank in order of preference) [Public Provident Fund]  \\\n",
       "0                                                  6                                                                        \n",
       "1                                                  6                                                                        \n",
       "2                                                  1                                                                        \n",
       "3                                                  4                                                                        \n",
       "4                                                  5                                                                        \n",
       "\n",
       "   What do you think are the best options for investing your money? (Rank in order of preference) [Gold]  \\\n",
       "0                                                  4                                                       \n",
       "1                                                  7                                                       \n",
       "2                                                  7                                                       \n",
       "3                                                  5                                                       \n",
       "4                                                  7                                                       \n",
       "\n",
       "   ...  \\\n",
       "0  ...   \n",
       "1  ...   \n",
       "2  ...   \n",
       "3  ...   \n",
       "4  ...   \n",
       "\n",
       "  How long do you prefer to keep your money in any investment instrument?  \\\n",
       "0                                          1-3 years                        \n",
       "1                                  More than 5 years                        \n",
       "2                                          3-5 years                        \n",
       "3                                   Less than 1 year                        \n",
       "4                                   Less than 1 year                        \n",
       "\n",
       "  How often do you monitor your investment?  \\\n",
       "0                                   Monthly   \n",
       "1                                    Weekly   \n",
       "2                                     Daily   \n",
       "3                                     Daily   \n",
       "4                                     Daily   \n",
       "\n",
       "  How much return do you expect from any investment instrument?  \\\n",
       "0                                            20%-30%              \n",
       "1                                            20%-30%              \n",
       "2                                            20%-30%              \n",
       "3                                            10%-20%              \n",
       "4                                            20%-30%              \n",
       "\n",
       "  Which investment avenue do you mostly invest in?  \\\n",
       "0                                      Mutual Fund   \n",
       "1                                      Mutual Fund   \n",
       "2                                           Equity   \n",
       "3                                           Equity   \n",
       "4                                           Equity   \n",
       "\n",
       "  What are your savings objectives? Reasons for investing in Equity Market  \\\n",
       "0                   Retirement Plan                   Capital Appreciation   \n",
       "1                       Health Care                               Dividend   \n",
       "2                   Retirement Plan                   Capital Appreciation   \n",
       "3                   Retirement Plan                               Dividend   \n",
       "4                   Retirement Plan                   Capital Appreciation   \n",
       "\n",
       "  Reasons for investing in Mutual Funds  \\\n",
       "0                        Better Returns   \n",
       "1                        Better Returns   \n",
       "2                          Tax Benefits   \n",
       "3                  Fund Diversification   \n",
       "4                        Better Returns   \n",
       "\n",
       "  Reasons for investing in Government Bonds  \\\n",
       "0                           Safe Investment   \n",
       "1                           Safe Investment   \n",
       "2                           Assured Returns   \n",
       "3                            Tax Incentives   \n",
       "4                           Safe Investment   \n",
       "\n",
       "  Reasons for investing in Fixed Deposits   \\\n",
       "0                            Fixed Returns   \n",
       "1                      High Interest Rates   \n",
       "2                            Fixed Returns   \n",
       "3                      High Interest Rates   \n",
       "4                                Risk Free   \n",
       "\n",
       "  Your sources of information for investments is   \n",
       "0                        Newspapers and Magazines  \n",
       "1                           Financial Consultants  \n",
       "2                                      Television  \n",
       "3                                        Internet  \n",
       "4                                        Internet  \n",
       "\n",
       "[5 rows x 24 columns]"
      ]
     },
     "execution_count": 7,
     "metadata": {},
     "output_type": "execute_result"
    }
   ],
   "source": [
    "oData.head()"
   ]
  },
  {
   "cell_type": "code",
   "execution_count": 23,
   "id": "b3a7cb71",
   "metadata": {},
   "outputs": [
    {
     "data": {
      "text/plain": [
       "gender                               object\n",
       "age                                   int64\n",
       "Investment_Avenues                   object\n",
       "Mutual_Funds                          int64\n",
       "Equity_Market                         int64\n",
       "Debentures                            int64\n",
       "Government_Bonds                      int64\n",
       "Fixed_Deposits                        int64\n",
       "PPF                                   int64\n",
       "Gold                                  int64\n",
       "Stock_Marktet                        object\n",
       "Factor                               object\n",
       "Objective                            object\n",
       "Purpose                              object\n",
       "Duration                             object\n",
       "Invest_Monitor                       object\n",
       "Expect                               object\n",
       "Avenue                               object\n",
       "What are your savings objectives?    object\n",
       "Reason_Equity                        object\n",
       "Reason_Mutual                        object\n",
       "Reason_Bonds                         object\n",
       "Reason_FD                            object\n",
       "Source                               object\n",
       "dtype: object"
      ]
     },
     "execution_count": 23,
     "metadata": {},
     "output_type": "execute_result"
    }
   ],
   "source": [
    "fData.dtypes"
   ]
  },
  {
   "cell_type": "code",
   "execution_count": 24,
   "id": "15621bc7",
   "metadata": {},
   "outputs": [
    {
     "data": {
      "text/plain": [
       "GENDER                                                                                                                    object\n",
       "AGE                                                                                                                        int64\n",
       "Do you invest in Investment Avenues?                                                                                      object\n",
       "What do you think are the best options for investing your money? (Rank in order of preference) [Mutual Funds]              int64\n",
       "What do you think are the best options for investing your money? (Rank in order of preference) [Equity Market]             int64\n",
       "What do you think are the best options for investing your money? (Rank in order of preference) [Debentures]                int64\n",
       "What do you think are the best options for investing your money? (Rank in order of preference) [Government Bonds]          int64\n",
       "What do you think are the best options for investing your money? (Rank in order of preference) [Fixed Deposits]            int64\n",
       "What do you think are the best options for investing your money? (Rank in order of preference) [Public Provident Fund]     int64\n",
       "What do you think are the best options for investing your money? (Rank in order of preference) [Gold]                      int64\n",
       "Do you invest in Stock Market?                                                                                            object\n",
       "What are the factors considered by you while investing in any instrument?                                                 object\n",
       "What is your investment objective?                                                                                        object\n",
       "What is your purpose behind investment?                                                                                   object\n",
       "How long do you prefer to keep your money in any investment instrument?                                                   object\n",
       "How often do you monitor your investment?                                                                                 object\n",
       "How much return do you expect from any investment instrument?                                                             object\n",
       "Which investment avenue do you mostly invest in?                                                                          object\n",
       "What are your savings objectives?                                                                                         object\n",
       "Reasons for investing in Equity Market                                                                                    object\n",
       "Reasons for investing in Mutual Funds                                                                                     object\n",
       "Reasons for investing in Government Bonds                                                                                 object\n",
       "Reasons for investing in Fixed Deposits                                                                                   object\n",
       "Your sources of information for investments is                                                                            object\n",
       "dtype: object"
      ]
     },
     "execution_count": 24,
     "metadata": {},
     "output_type": "execute_result"
    }
   ],
   "source": [
    "oData.dtypes"
   ]
  },
  {
   "cell_type": "code",
   "execution_count": 25,
   "id": "269f812c",
   "metadata": {},
   "outputs": [
    {
     "data": {
      "text/plain": [
       "gender                                                 Female\n",
       "age                                                        34\n",
       "Investment_Avenues                                        Yes\n",
       "Mutual_Funds                                                1\n",
       "Equity_Market                                               2\n",
       "Debentures                                                  5\n",
       "Government_Bonds                                            3\n",
       "Fixed_Deposits                                              7\n",
       "PPF                                                         6\n",
       "Gold                                                        4\n",
       "Stock_Marktet                                             Yes\n",
       "Factor                                                Returns\n",
       "Objective                                Capital Appreciation\n",
       "Purpose                                       Wealth Creation\n",
       "Duration                                            1-3 years\n",
       "Invest_Monitor                                        Monthly\n",
       "Expect                                                20%-30%\n",
       "Avenue                                            Mutual Fund\n",
       "What are your savings objectives?             Retirement Plan\n",
       "Reason_Equity                            Capital Appreciation\n",
       "Reason_Mutual                                  Better Returns\n",
       "Reason_Bonds                                  Safe Investment\n",
       "Reason_FD                                       Fixed Returns\n",
       "Source                               Newspapers and Magazines\n",
       "Name: 0, dtype: object"
      ]
     },
     "execution_count": 25,
     "metadata": {},
     "output_type": "execute_result"
    }
   ],
   "source": [
    "fData.iloc[0]"
   ]
  },
  {
   "cell_type": "code",
   "execution_count": 29,
   "id": "42a9e3cf",
   "metadata": {},
   "outputs": [
    {
     "data": {
      "text/plain": [
       "array(['Female', 'Male'], dtype=object)"
      ]
     },
     "execution_count": 29,
     "metadata": {},
     "output_type": "execute_result"
    }
   ],
   "source": [
    "fData['gender'].unique()"
   ]
  },
  {
   "cell_type": "code",
   "execution_count": 31,
   "id": "a9ac6499",
   "metadata": {},
   "outputs": [
    {
     "data": {
      "text/plain": [
       "array(['Yes', 'No'], dtype=object)"
      ]
     },
     "execution_count": 31,
     "metadata": {},
     "output_type": "execute_result"
    }
   ],
   "source": [
    "fData['Stock_Marktet'].unique()"
   ]
  },
  {
   "cell_type": "code",
   "execution_count": 32,
   "id": "7dcdcad6",
   "metadata": {},
   "outputs": [
    {
     "data": {
      "text/plain": [
       "array(['Returns', 'Locking Period', 'Risk'], dtype=object)"
      ]
     },
     "execution_count": 32,
     "metadata": {},
     "output_type": "execute_result"
    }
   ],
   "source": [
    "fData['Factor'].unique()"
   ]
  },
  {
   "cell_type": "code",
   "execution_count": 33,
   "id": "3cd40179",
   "metadata": {},
   "outputs": [
    {
     "data": {
      "text/plain": [
       "array(['Returns', 'Locking Period', 'Risk'], dtype=object)"
      ]
     },
     "execution_count": 33,
     "metadata": {},
     "output_type": "execute_result"
    }
   ],
   "source": [
    "fData['Objective'].unique()"
   ]
  },
  {
   "cell_type": "code",
   "execution_count": 34,
   "id": "f457049d",
   "metadata": {},
   "outputs": [
    {
     "data": {
      "text/plain": [
       "array(['Returns', 'Locking Period', 'Risk'], dtype=object)"
      ]
     },
     "execution_count": 34,
     "metadata": {},
     "output_type": "execute_result"
    }
   ],
   "source": [
    "fData['Purpose'].unique()"
   ]
  },
  {
   "cell_type": "code",
   "execution_count": 35,
   "id": "92d35dd2",
   "metadata": {},
   "outputs": [
    {
     "data": {
      "text/plain": [
       "array(['Returns', 'Locking Period', 'Risk'], dtype=object)"
      ]
     },
     "execution_count": 35,
     "metadata": {},
     "output_type": "execute_result"
    }
   ],
   "source": [
    "fData['Duration'].unique()"
   ]
  },
  {
   "cell_type": "code",
   "execution_count": 36,
   "id": "1e1ec9c2",
   "metadata": {},
   "outputs": [
    {
     "data": {
      "text/plain": [
       "array(['Returns', 'Locking Period', 'Risk'], dtype=object)"
      ]
     },
     "execution_count": 36,
     "metadata": {},
     "output_type": "execute_result"
    }
   ],
   "source": [
    "fData['Invest_Monitor'].unique()"
   ]
  },
  {
   "cell_type": "code",
   "execution_count": 37,
   "id": "885d8035",
   "metadata": {},
   "outputs": [
    {
     "data": {
      "text/plain": [
       "array(['Returns', 'Locking Period', 'Risk'], dtype=object)"
      ]
     },
     "execution_count": 37,
     "metadata": {},
     "output_type": "execute_result"
    }
   ],
   "source": [
    "fData['Expect'].unique()"
   ]
  },
  {
   "cell_type": "code",
   "execution_count": 38,
   "id": "c0b75a69",
   "metadata": {},
   "outputs": [
    {
     "data": {
      "text/plain": [
       "array(['Returns', 'Locking Period', 'Risk'], dtype=object)"
      ]
     },
     "execution_count": 38,
     "metadata": {},
     "output_type": "execute_result"
    }
   ],
   "source": [
    "fData['Avenue'].unique()"
   ]
  },
  {
   "cell_type": "code",
   "execution_count": 39,
   "id": "1460ef2f",
   "metadata": {},
   "outputs": [
    {
     "data": {
      "text/plain": [
       "array(['Returns', 'Locking Period', 'Risk'], dtype=object)"
      ]
     },
     "execution_count": 39,
     "metadata": {},
     "output_type": "execute_result"
    }
   ],
   "source": [
    "fData['What are your savings objectives?'].unique()"
   ]
  },
  {
   "cell_type": "code",
   "execution_count": 41,
   "id": "535e4bac",
   "metadata": {},
   "outputs": [
    {
     "data": {
      "text/plain": [
       "array(['Retirement Plan', 'Health Care', 'Education'], dtype=object)"
      ]
     },
     "execution_count": 41,
     "metadata": {},
     "output_type": "execute_result"
    }
   ],
   "source": [
    "fData['What are your savings objectives?'].unique()"
   ]
  },
  {
   "cell_type": "code",
   "execution_count": 43,
   "id": "ce143da9",
   "metadata": {},
   "outputs": [
    {
     "data": {
      "text/plain": [
       "array(['Capital Appreciation', 'Dividend', 'Liquidity'], dtype=object)"
      ]
     },
     "execution_count": 43,
     "metadata": {},
     "output_type": "execute_result"
    }
   ],
   "source": [
    "fData['Reason_Equity'].unique()"
   ]
  },
  {
   "cell_type": "code",
   "execution_count": 48,
   "id": "8ccd1482",
   "metadata": {},
   "outputs": [
    {
     "data": {
      "text/plain": [
       "array(['Better Returns', 'Tax Benefits', 'Fund Diversification'],\n",
       "      dtype=object)"
      ]
     },
     "execution_count": 48,
     "metadata": {},
     "output_type": "execute_result"
    }
   ],
   "source": [
    "fData['Reason_Mutual'].unique()"
   ]
  },
  {
   "cell_type": "code",
   "execution_count": 45,
   "id": "f0c35fd7",
   "metadata": {},
   "outputs": [
    {
     "data": {
      "text/plain": [
       "array(['Capital Appreciation', 'Dividend', 'Liquidity'], dtype=object)"
      ]
     },
     "execution_count": 45,
     "metadata": {},
     "output_type": "execute_result"
    }
   ],
   "source": [
    "fData['Reason_Equity'].unique()"
   ]
  },
  {
   "cell_type": "code",
   "execution_count": 49,
   "id": "455f193b",
   "metadata": {},
   "outputs": [
    {
     "data": {
      "text/plain": [
       "array(['Safe Investment', 'Assured Returns', 'Tax Incentives'],\n",
       "      dtype=object)"
      ]
     },
     "execution_count": 49,
     "metadata": {},
     "output_type": "execute_result"
    }
   ],
   "source": [
    "fData['Reason_Bonds'].unique()"
   ]
  },
  {
   "cell_type": "code",
   "execution_count": 50,
   "id": "b6d778d0",
   "metadata": {},
   "outputs": [
    {
     "data": {
      "text/plain": [
       "array(['Fixed Returns', 'High Interest Rates', 'Risk Free'], dtype=object)"
      ]
     },
     "execution_count": 50,
     "metadata": {},
     "output_type": "execute_result"
    }
   ],
   "source": [
    "fData['Reason_FD'].unique()"
   ]
  },
  {
   "cell_type": "code",
   "execution_count": 51,
   "id": "8ffac52a",
   "metadata": {},
   "outputs": [
    {
     "data": {
      "text/plain": [
       "array(['Newspapers and Magazines', 'Financial Consultants', 'Television',\n",
       "       'Internet'], dtype=object)"
      ]
     },
     "execution_count": 51,
     "metadata": {},
     "output_type": "execute_result"
    }
   ],
   "source": [
    "fData['Source'].unique()"
   ]
  },
  {
   "cell_type": "code",
   "execution_count": null,
   "id": "51bd3a35",
   "metadata": {},
   "outputs": [],
   "source": []
  }
 ],
 "metadata": {
  "kernelspec": {
   "display_name": "Python 3 (ipykernel)",
   "language": "python",
   "name": "python3"
  },
  "language_info": {
   "codemirror_mode": {
    "name": "ipython",
    "version": 3
   },
   "file_extension": ".py",
   "mimetype": "text/x-python",
   "name": "python",
   "nbconvert_exporter": "python",
   "pygments_lexer": "ipython3",
   "version": "3.11.5"
  }
 },
 "nbformat": 4,
 "nbformat_minor": 5
}
