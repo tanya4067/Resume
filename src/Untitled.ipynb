{
 "cells": [
  {
   "cell_type": "code",
   "execution_count": 49,
   "id": "91f4412f",
   "metadata": {},
   "outputs": [],
   "source": [
    "import pandas as pd \n",
    "import requests"
   ]
  },
  {
   "cell_type": "code",
   "execution_count": 58,
   "id": "deb80150",
   "metadata": {},
   "outputs": [],
   "source": [
    "r = requests.get('http://127.0.0.1:8000/getStocks')"
   ]
  },
  {
   "cell_type": "code",
   "execution_count": 80,
   "id": "7dbd5be9",
   "metadata": {},
   "outputs": [
    {
     "name": "stdout",
     "output_type": "stream",
     "text": [
      "b'{\"Status\":\"OK\",\"data\":[{\"search\":\"Tata motors\"},{\"search\":\"Microsoft\"},{\"search\":\"\"}]}'\n"
     ]
    }
   ],
   "source": [
    "print(r.content)"
   ]
  },
  {
   "cell_type": "code",
   "execution_count": 30,
   "id": "9bff4bb2",
   "metadata": {},
   "outputs": [],
   "source": [
    "r1=requests.get('https://groww.in/v1/api/stocks_data/v1/all_stocks?page=0&size=10')"
   ]
  },
  {
   "cell_type": "code",
   "execution_count": 31,
   "id": "567fabbe",
   "metadata": {},
   "outputs": [
    {
     "name": "stdout",
     "output_type": "stream",
     "text": [
      "405 method not allowed\n"
     ]
    }
   ],
   "source": [
    "print(r1.text);"
   ]
  },
  {
   "cell_type": "code",
   "execution_count": 49,
   "id": "fd8a285b",
   "metadata": {},
   "outputs": [],
   "source": [
    "test=pd.read_json('untitled.json')"
   ]
  },
  {
   "cell_type": "code",
   "execution_count": 33,
   "id": "862ccbf0",
   "metadata": {},
   "outputs": [
    {
     "data": {
      "text/plain": [
       "100"
      ]
     },
     "execution_count": 33,
     "metadata": {},
     "output_type": "execute_result"
    }
   ],
   "source": [
    "len(test)"
   ]
  },
  {
   "cell_type": "code",
   "execution_count": 34,
   "id": "c9c4a9c0",
   "metadata": {},
   "outputs": [
    {
     "data": {
      "text/html": [
       "<div>\n",
       "<style scoped>\n",
       "    .dataframe tbody tr th:only-of-type {\n",
       "        vertical-align: middle;\n",
       "    }\n",
       "\n",
       "    .dataframe tbody tr th {\n",
       "        vertical-align: top;\n",
       "    }\n",
       "\n",
       "    .dataframe thead th {\n",
       "        text-align: right;\n",
       "    }\n",
       "</style>\n",
       "<table border=\"1\" class=\"dataframe\">\n",
       "  <thead>\n",
       "    <tr style=\"text-align: right;\">\n",
       "      <th></th>\n",
       "      <th>records</th>\n",
       "      <th>totalRecords</th>\n",
       "    </tr>\n",
       "  </thead>\n",
       "  <tbody>\n",
       "    <tr>\n",
       "      <th>0</th>\n",
       "      <td>{'isin': 'INE685A01028', 'growwContractId': 'G...</td>\n",
       "      <td>4389</td>\n",
       "    </tr>\n",
       "    <tr>\n",
       "      <th>1</th>\n",
       "      <td>{'isin': 'INE053A01029', 'growwContractId': 'G...</td>\n",
       "      <td>4389</td>\n",
       "    </tr>\n",
       "    <tr>\n",
       "      <th>2</th>\n",
       "      <td>{'isin': 'INE721A01013', 'growwContractId': 'G...</td>\n",
       "      <td>4389</td>\n",
       "    </tr>\n",
       "    <tr>\n",
       "      <th>3</th>\n",
       "      <td>{'isin': 'INE298A01020', 'growwContractId': 'G...</td>\n",
       "      <td>4389</td>\n",
       "    </tr>\n",
       "    <tr>\n",
       "      <th>4</th>\n",
       "      <td>{'isin': 'INE854D01024', 'growwContractId': 'G...</td>\n",
       "      <td>4389</td>\n",
       "    </tr>\n",
       "  </tbody>\n",
       "</table>\n",
       "</div>"
      ],
      "text/plain": [
       "                                             records  totalRecords\n",
       "0  {'isin': 'INE685A01028', 'growwContractId': 'G...          4389\n",
       "1  {'isin': 'INE053A01029', 'growwContractId': 'G...          4389\n",
       "2  {'isin': 'INE721A01013', 'growwContractId': 'G...          4389\n",
       "3  {'isin': 'INE298A01020', 'growwContractId': 'G...          4389\n",
       "4  {'isin': 'INE854D01024', 'growwContractId': 'G...          4389"
      ]
     },
     "execution_count": 34,
     "metadata": {},
     "output_type": "execute_result"
    }
   ],
   "source": [
    "test.head()"
   ]
  },
  {
   "cell_type": "code",
   "execution_count": 38,
   "id": "6496984e",
   "metadata": {},
   "outputs": [
    {
     "data": {
      "text/plain": [
       "{'isin': 'INE685A01028',\n",
       " 'growwContractId': 'GSTK500420',\n",
       " 'companyName': 'Torrent Pharmaceuticals',\n",
       " 'companyShortName': 'Torrent Pharma',\n",
       " 'searchId': 'torrent-pharmaceuticals-ltd',\n",
       " 'industryCode': 80,\n",
       " 'bseScriptCode': 500420,\n",
       " 'nseScriptCode': 'TORNTPHARM',\n",
       " 'yearlyHighPrice': 2744.0,\n",
       " 'yearlyLowPrice': 1537.1,\n",
       " 'closePrice': 2588.65,\n",
       " 'marketCap': 87616000000000,\n",
       " 'livePriceDto': {'type': 'LIVE_PRICE',\n",
       "  'symbol': 'TORNTPHARM',\n",
       "  'tsInMillis': 1712312929,\n",
       "  'open': 2544.1,\n",
       "  'high': 2619.3,\n",
       "  'low': 2544.1,\n",
       "  'close': 2537.55,\n",
       "  'ltp': 2577.1,\n",
       "  'dayChange': 39.54999999999973,\n",
       "  'dayChangePerc': 1.558589978522579,\n",
       "  'lowPriceRange': 2283.8,\n",
       "  'highPriceRange': 2791.3,\n",
       "  'volume': 331883,\n",
       "  'totalBuyQty': 370.0,\n",
       "  'totalSellQty': 0.0,\n",
       "  'oiDayChange': 0.0,\n",
       "  'oiDayChangePerc': 0.0,\n",
       "  'lastTradeQty': 5,\n",
       "  'lastTradeTime': 1712293129}}"
      ]
     },
     "execution_count": 38,
     "metadata": {},
     "output_type": "execute_result"
    }
   ],
   "source": [
    "test.iloc[0][0]"
   ]
  },
  {
   "cell_type": "code",
   "execution_count": 39,
   "id": "7414a4e6",
   "metadata": {},
   "outputs": [
    {
     "data": {
      "text/plain": [
       "{'isin': 'INE053A01029',\n",
       " 'growwContractId': 'GSTK500850',\n",
       " 'companyName': 'Indian Hotels Company',\n",
       " 'companyShortName': 'Indian Hotels Co',\n",
       " 'searchId': 'the-indian-hotels-company-ltd',\n",
       " 'industryCode': 60,\n",
       " 'bseScriptCode': 500850,\n",
       " 'nseScriptCode': 'INDHOTEL',\n",
       " 'yearlyHighPrice': 618.45,\n",
       " 'yearlyLowPrice': 318.1,\n",
       " 'closePrice': 614.15,\n",
       " 'marketCap': 87384000000000,\n",
       " 'livePriceDto': {'type': 'LIVE_PRICE',\n",
       "  'symbol': 'INDHOTEL',\n",
       "  'tsInMillis': 1712312999,\n",
       "  'open': 620.0,\n",
       "  'high': 622.2,\n",
       "  'low': 608.65,\n",
       "  'close': 617.95,\n",
       "  'ltp': 613.3,\n",
       "  'dayChange': -4.650000000000091,\n",
       "  'dayChangePerc': -0.752488065377472,\n",
       "  'lowPriceRange': 556.15,\n",
       "  'highPriceRange': 679.7,\n",
       "  'volume': 2992901,\n",
       "  'totalBuyQty': 0.0,\n",
       "  'totalSellQty': 172.0,\n",
       "  'oiDayChange': 0.0,\n",
       "  'oiDayChangePerc': 0.0,\n",
       "  'lastTradeQty': 30,\n",
       "  'lastTradeTime': 1712293199}}"
      ]
     },
     "execution_count": 39,
     "metadata": {},
     "output_type": "execute_result"
    }
   ],
   "source": [
    "test.iloc[1][0]"
   ]
  },
  {
   "cell_type": "code",
   "execution_count": 50,
   "id": "6f01fa3a",
   "metadata": {},
   "outputs": [],
   "source": [
    "cName=[]\n",
    "yearlyHPrice=[]\n",
    "yearlyLPrice=[]\n",
    "cPrice=[]\n",
    "marketCap=[]\n",
    "open=[]\n",
    "high=[]\n",
    "low=[]\n",
    "close=[]\n",
    "ltp=[]\n",
    "dayChange=[]\n",
    "lowPriceRange=[]\n",
    "highPriceRange=[]\n",
    "volume=[]"
   ]
  },
  {
   "cell_type": "code",
   "execution_count": 51,
   "id": "38d7fe57",
   "metadata": {},
   "outputs": [],
   "source": [
    "for i in range(0,len(test)):\n",
    "    cName.append(test.iloc[i][0]['companyName']);\n",
    "    yearlyHPrice.append(test.iloc[i][0]['yearlyHighPrice']);\n",
    "    yearlyLPrice.append(test.iloc[i][0]['yearlyLowPrice']);\n",
    "    cPrice.append(test.iloc[i][0]['closePrice']);\n",
    "    marketCap.append(test.iloc[i][0]['marketCap']);\n",
    "    open.append(test.iloc[i][0]['livePriceDto']['open']);\n",
    "    high.append(test.iloc[i][0]['livePriceDto']['high']);\n",
    "    low.append(test.iloc[i][0]['livePriceDto']['low']);\n",
    "    close.append(test.iloc[i][0]['livePriceDto']['close']);\n",
    "    ltp.append(test.iloc[i][0]['livePriceDto']['ltp']);\n",
    "    dayChange.append(test.iloc[i][0]['livePriceDto']['dayChange']);\n",
    "    lowPriceRange.append(test.iloc[i][0]['livePriceDto']['lowPriceRange']);\n",
    "    highPriceRange.append(test.iloc[i][0]['livePriceDto']['highPriceRange']);\n",
    "    volume.append(test.iloc[i][0]['livePriceDto']['volume']);\n",
    "    \n",
    "    "
   ]
  },
  {
   "cell_type": "code",
   "execution_count": 52,
   "id": "5fac7da4",
   "metadata": {},
   "outputs": [],
   "source": [
    "test['cName']=cName;\n",
    "test['yearlyHPrice']=yearlyHPrice;\n",
    "test['yearlyLPrice']=yearlyLPrice;\n",
    "test['cPrice']=cPrice;\n",
    "test['marketCap']=marketCap;\n",
    "test['open']=open;\n",
    "test['high']=high;\n",
    "test['low']=low;\n",
    "test['close']=close;\n",
    "test['ltp']=ltp;\n",
    "test['dayChange']=dayChange;\n",
    "test['lowPriceRange']=lowPriceRange;\n",
    "test['highPriceRange']=highPriceRange;\n",
    "test['volume']=volume;"
   ]
  },
  {
   "cell_type": "code",
   "execution_count": 53,
   "id": "84d32fae",
   "metadata": {},
   "outputs": [
    {
     "data": {
      "text/html": [
       "<div>\n",
       "<style scoped>\n",
       "    .dataframe tbody tr th:only-of-type {\n",
       "        vertical-align: middle;\n",
       "    }\n",
       "\n",
       "    .dataframe tbody tr th {\n",
       "        vertical-align: top;\n",
       "    }\n",
       "\n",
       "    .dataframe thead th {\n",
       "        text-align: right;\n",
       "    }\n",
       "</style>\n",
       "<table border=\"1\" class=\"dataframe\">\n",
       "  <thead>\n",
       "    <tr style=\"text-align: right;\">\n",
       "      <th></th>\n",
       "      <th>records</th>\n",
       "      <th>totalRecords</th>\n",
       "      <th>cName</th>\n",
       "      <th>yearlyHPrice</th>\n",
       "      <th>yearlyLPrice</th>\n",
       "      <th>cPrice</th>\n",
       "      <th>marketCap</th>\n",
       "      <th>open</th>\n",
       "      <th>high</th>\n",
       "      <th>low</th>\n",
       "      <th>close</th>\n",
       "      <th>ltp</th>\n",
       "      <th>dayChange</th>\n",
       "      <th>lowPriceRange</th>\n",
       "      <th>highPriceRange</th>\n",
       "      <th>volume</th>\n",
       "    </tr>\n",
       "  </thead>\n",
       "  <tbody>\n",
       "    <tr>\n",
       "      <th>0</th>\n",
       "      <td>{'isin': 'INE685A01028', 'growwContractId': 'G...</td>\n",
       "      <td>4389</td>\n",
       "      <td>Torrent Pharmaceuticals</td>\n",
       "      <td>2744.00</td>\n",
       "      <td>1537.10</td>\n",
       "      <td>2588.65</td>\n",
       "      <td>87616000000000</td>\n",
       "      <td>2544.10</td>\n",
       "      <td>2619.30</td>\n",
       "      <td>2544.10</td>\n",
       "      <td>2537.55</td>\n",
       "      <td>2577.10</td>\n",
       "      <td>39.55</td>\n",
       "      <td>2283.80</td>\n",
       "      <td>2791.3</td>\n",
       "      <td>331883</td>\n",
       "    </tr>\n",
       "    <tr>\n",
       "      <th>1</th>\n",
       "      <td>{'isin': 'INE053A01029', 'growwContractId': 'G...</td>\n",
       "      <td>4389</td>\n",
       "      <td>Indian Hotels Company</td>\n",
       "      <td>618.45</td>\n",
       "      <td>318.10</td>\n",
       "      <td>614.15</td>\n",
       "      <td>87384000000000</td>\n",
       "      <td>620.00</td>\n",
       "      <td>622.20</td>\n",
       "      <td>608.65</td>\n",
       "      <td>617.95</td>\n",
       "      <td>613.30</td>\n",
       "      <td>-4.65</td>\n",
       "      <td>556.15</td>\n",
       "      <td>679.7</td>\n",
       "      <td>2992901</td>\n",
       "    </tr>\n",
       "    <tr>\n",
       "      <th>2</th>\n",
       "      <td>{'isin': 'INE721A01013', 'growwContractId': 'G...</td>\n",
       "      <td>4389</td>\n",
       "      <td>Shriram Finance</td>\n",
       "      <td>2535.00</td>\n",
       "      <td>1202.15</td>\n",
       "      <td>2291.50</td>\n",
       "      <td>86571000000000</td>\n",
       "      <td>2510.55</td>\n",
       "      <td>2532.00</td>\n",
       "      <td>2498.10</td>\n",
       "      <td>2499.30</td>\n",
       "      <td>2518.85</td>\n",
       "      <td>19.55</td>\n",
       "      <td>2249.40</td>\n",
       "      <td>2749.2</td>\n",
       "      <td>650696</td>\n",
       "    </tr>\n",
       "    <tr>\n",
       "      <th>3</th>\n",
       "      <td>{'isin': 'INE298A01020', 'growwContractId': 'G...</td>\n",
       "      <td>4389</td>\n",
       "      <td>Cummins India</td>\n",
       "      <td>3062.75</td>\n",
       "      <td>1481.00</td>\n",
       "      <td>3049.20</td>\n",
       "      <td>84514000000000</td>\n",
       "      <td>3011.00</td>\n",
       "      <td>3039.55</td>\n",
       "      <td>3003.05</td>\n",
       "      <td>3029.75</td>\n",
       "      <td>3032.00</td>\n",
       "      <td>2.25</td>\n",
       "      <td>2726.80</td>\n",
       "      <td>3332.7</td>\n",
       "      <td>310015</td>\n",
       "    </tr>\n",
       "    <tr>\n",
       "      <th>4</th>\n",
       "      <td>{'isin': 'INE854D01024', 'growwContractId': 'G...</td>\n",
       "      <td>4389</td>\n",
       "      <td>United Spirits</td>\n",
       "      <td>1182.15</td>\n",
       "      <td>741.50</td>\n",
       "      <td>1130.30</td>\n",
       "      <td>82205000000000</td>\n",
       "      <td>1120.05</td>\n",
       "      <td>1132.00</td>\n",
       "      <td>1114.00</td>\n",
       "      <td>1120.20</td>\n",
       "      <td>1128.30</td>\n",
       "      <td>8.10</td>\n",
       "      <td>1008.20</td>\n",
       "      <td>1232.2</td>\n",
       "      <td>549428</td>\n",
       "    </tr>\n",
       "  </tbody>\n",
       "</table>\n",
       "</div>"
      ],
      "text/plain": [
       "                                             records  totalRecords  \\\n",
       "0  {'isin': 'INE685A01028', 'growwContractId': 'G...          4389   \n",
       "1  {'isin': 'INE053A01029', 'growwContractId': 'G...          4389   \n",
       "2  {'isin': 'INE721A01013', 'growwContractId': 'G...          4389   \n",
       "3  {'isin': 'INE298A01020', 'growwContractId': 'G...          4389   \n",
       "4  {'isin': 'INE854D01024', 'growwContractId': 'G...          4389   \n",
       "\n",
       "                     cName  yearlyHPrice  yearlyLPrice   cPrice  \\\n",
       "0  Torrent Pharmaceuticals       2744.00       1537.10  2588.65   \n",
       "1    Indian Hotels Company        618.45        318.10   614.15   \n",
       "2          Shriram Finance       2535.00       1202.15  2291.50   \n",
       "3            Cummins India       3062.75       1481.00  3049.20   \n",
       "4           United Spirits       1182.15        741.50  1130.30   \n",
       "\n",
       "        marketCap     open     high      low    close      ltp  dayChange  \\\n",
       "0  87616000000000  2544.10  2619.30  2544.10  2537.55  2577.10      39.55   \n",
       "1  87384000000000   620.00   622.20   608.65   617.95   613.30      -4.65   \n",
       "2  86571000000000  2510.55  2532.00  2498.10  2499.30  2518.85      19.55   \n",
       "3  84514000000000  3011.00  3039.55  3003.05  3029.75  3032.00       2.25   \n",
       "4  82205000000000  1120.05  1132.00  1114.00  1120.20  1128.30       8.10   \n",
       "\n",
       "   lowPriceRange  highPriceRange   volume  \n",
       "0        2283.80          2791.3   331883  \n",
       "1         556.15           679.7  2992901  \n",
       "2        2249.40          2749.2   650696  \n",
       "3        2726.80          3332.7   310015  \n",
       "4        1008.20          1232.2   549428  "
      ]
     },
     "execution_count": 53,
     "metadata": {},
     "output_type": "execute_result"
    }
   ],
   "source": [
    "test.head()"
   ]
  },
  {
   "cell_type": "code",
   "execution_count": null,
   "id": "ee3bc47f",
   "metadata": {},
   "outputs": [],
   "source": []
  },
  {
   "cell_type": "code",
   "execution_count": 56,
   "id": "573a834a",
   "metadata": {},
   "outputs": [],
   "source": [
    "url = 'http://127.0.0.1:8000/user'\n",
    "myobj = {\n",
    "  \"id\": 2,\n",
    "  \"name\": \"string\",\n",
    "  \"age\": 0,\n",
    "  \"gender\": \"string\",\n",
    "  \"net_worth\": 0,\n",
    "  \"duration\": 0,\n",
    "  \"yearly_salary\": 0\n",
    "}\n",
    "\n",
    "x = requests.post(url, json = myobj)\n"
   ]
  },
  {
   "cell_type": "code",
   "execution_count": null,
   "id": "306a881f",
   "metadata": {},
   "outputs": [],
   "source": [
    "for i in range(0,len(test)):\n",
    "    if()"
   ]
  },
  {
   "cell_type": "code",
   "execution_count": 81,
   "id": "887bf102",
   "metadata": {},
   "outputs": [],
   "source": [
    "import matplotlib.pyplot as plt"
   ]
  },
  {
   "cell_type": "code",
   "execution_count": 84,
   "id": "f1691b09",
   "metadata": {},
   "outputs": [
    {
     "data": {
      "image/png": "[encoded data removed]",
      "text/plain": [
       "<Figure size 640x480 with 1 Axes>"
      ]
     },
     "metadata": {},
     "output_type": "display_data"
    }
   ],
   "source": [
    "plt.plot(cName,yearlyHPrice)\n",
    "plt.show()"
   ]
  },
  {
   "cell_type": "code",
   "execution_count": 85,
   "id": "3acabab1",
   "metadata": {},
   "outputs": [
    {
     "data": {
      "text/plain": [
       "[<matplotlib.lines.Line2D at 0x115871dd0>]"
      ]
     },
     "execution_count": 85,
     "metadata": {},
     "output_type": "execute_result"
    },
    {
     "data": {
      "image/png": "[encoded data removed]",
      "text/plain": [
       "<Figure size 640x480 with 1 Axes>"
      ]
     },
     "metadata": {},
     "output_type": "display_data"
    }
   ],
   "source": [
    "plt.plot(cName,yearlyLPrice)"
   ]
  },
  {
   "cell_type": "code",
   "execution_count": 89,
   "id": "adf2694d",
   "metadata": {},
   "outputs": [
    {
     "name": "stdout",
     "output_type": "stream",
     "text": [
      "690376450\n"
     ]
    }
   ],
   "source": [
    "print(max(volume))"
   ]
  },
  {
   "cell_type": "code",
   "execution_count": null,
   "id": "6be79b24",
   "metadata": {},
   "outputs": [],
   "source": []
  }
 ],
 "metadata": {
  "kernelspec": {
   "display_name": "Python 3 (ipykernel)",
   "language": "python",
   "name": "python3"
  },
  "language_info": {
   "codemirror_mode": {
    "name": "ipython",
    "version": 3
   },
   "file_extension": ".py",
   "mimetype": "text/x-python",
   "name": "python",
   "nbconvert_exporter": "python",
   "pygments_lexer": "ipython3",
   "version": "3.11.5"
  }
 },
 "nbformat": 4,
 "nbformat_minor": 5
}
